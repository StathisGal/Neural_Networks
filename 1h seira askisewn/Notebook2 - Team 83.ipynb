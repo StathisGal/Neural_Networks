{
 "cells": [
  {
   "cell_type": "markdown",
   "metadata": {
    "deletable": true,
    "editable": true,
    "ein.tags": "worksheet-0",
    "slideshow": {
     "slide_type": "-"
    }
   },
   "source": [
    "# Section 2\n",
    "\n",
    "## Efstathios Galanakis 03112172\n",
    "## Ioannis Tzanettis 03112506\n",
    "## Team Number: 83\n",
    "\n",
    "\n",
    "\n",
    "Datasheet Name: SECOM\n",
    "Number of features: 1567\n",
    "Number of classes: 591\n"
   ]
  },
  {
   "cell_type": "markdown",
   "metadata": {
    "deletable": true,
    "editable": true,
    "ein.tags": "worksheet-0",
    "slideshow": {
     "slide_type": "-"
    }
   },
   "source": [
    "# Insert Data\n",
    "\n",
    "First we read data from file and we separate train data from test data.\n"
   ]
  },
  {
   "cell_type": "code",
   "execution_count": 127,
   "metadata": {
    "autoscroll": false,
    "collapsed": false,
    "deletable": true,
    "editable": true,
    "ein.tags": "worksheet-0",
    "slideshow": {
     "slide_type": "-"
    }
   },
   "outputs": [
    {
     "name": "stdout",
     "output_type": "stream",
     "text": [
      "[ 0.  0.  1. ...,  0.  0.  0.]\n"
     ]
    }
   ],
   "source": [
    "import numpy as np\n",
    "import pandas as pd\n",
    "from sklearn.neural_network import MLPClassifier\n",
    "from sklearn.metrics import accuracy_score\n",
    "from sklearn.metrics import classification_report\n",
    "from sklearn.model_selection import train_test_split\n",
    "\n",
    "perc = 0.3\n",
    "k = 5\n",
    "\n",
    "features = []\n",
    "labels = []\n",
    "\n",
    "labels_path = './big/secom_labels.data'\n",
    "datasheet_labels = pd.read_csv(labels_path, header=None, delim_whitespace=True)\n",
    "mapping={-1:0}\n",
    "labels = datasheet_labels.replace(mapping).values[:,0].flatten()\n",
    "labels = np.float64(labels)\n",
    "print labels"
   ]
  },
  {
   "cell_type": "markdown",
   "metadata": {
    "deletable": true,
    "editable": true,
    "ein.tags": "worksheet-0",
    "slideshow": {
     "slide_type": "-"
    }
   },
   "source": [
    "After reading we have to replace missing values"
   ]
  },
  {
   "cell_type": "code",
   "execution_count": 128,
   "metadata": {
    "autoscroll": false,
    "collapsed": false,
    "deletable": true,
    "editable": true,
    "ein.tags": "worksheet-0",
    "slideshow": {
     "slide_type": "-"
    }
   },
   "outputs": [
    {
     "name": "stdout",
     "output_type": "stream",
     "text": [
      "[[  3.03093000e+03   2.56400000e+03   2.18773330e+03 ...,   1.64749042e-02\n",
      "    5.28333333e-03   9.96700663e+01]\n",
      " [  3.09578000e+03   2.46514000e+03   2.23042220e+03 ...,   2.01000000e-02\n",
      "    6.00000000e-03   2.08204500e+02]\n",
      " [  2.93261000e+03   2.55994000e+03   2.18641110e+03 ...,   4.84000000e-02\n",
      "    1.48000000e-02   8.28602000e+01]\n",
      " ..., \n",
      " [  2.97881000e+03   2.37978000e+03   2.20630000e+03 ...,   8.60000000e-03\n",
      "    2.50000000e-03   4.35231000e+01]\n",
      " [  2.89492000e+03   2.53201000e+03   2.17703330e+03 ...,   2.45000000e-02\n",
      "    7.50000000e-03   9.34941000e+01]\n",
      " [  2.94492000e+03   2.45076000e+03   2.19544440e+03 ...,   1.62000000e-02\n",
      "    4.50000000e-03   1.37784400e+02]]\n"
     ]
    }
   ],
   "source": [
    "from sklearn.preprocessing import Imputer\n",
    "\n",
    "imp = Imputer(missing_values='NaN', strategy='mean', axis=0)\n",
    "\n",
    "features_path = './big/secom.data'\n",
    "datasheet_features = pd.read_csv(features_path, header=None, delim_whitespace=True)\n",
    "features = imp.fit_transform(datasheet_features)\n",
    "print features\n"
   ]
  },
  {
   "cell_type": "markdown",
   "metadata": {
    "deletable": true,
    "editable": true,
    "ein.tags": "worksheet-0",
    "slideshow": {
     "slide_type": "-"
    }
   },
   "source": [
    "After we replace the missing value, it's time to seperate train and test data"
   ]
  },
  {
   "cell_type": "code",
   "execution_count": 129,
   "metadata": {
    "autoscroll": false,
    "collapsed": false,
    "deletable": true,
    "editable": true,
    "ein.tags": "worksheet-0",
    "slideshow": {
     "slide_type": "-"
    }
   },
   "outputs": [
    {
     "name": "stdout",
     "output_type": "stream",
     "text": [
      "[[  3.03093000e+03   2.56400000e+03   2.18773330e+03 ...,   1.64749042e-02\n",
      "    5.28333333e-03   9.96700663e+01]\n",
      " [  3.09578000e+03   2.46514000e+03   2.23042220e+03 ...,   2.01000000e-02\n",
      "    6.00000000e-03   2.08204500e+02]\n",
      " [  2.93261000e+03   2.55994000e+03   2.18641110e+03 ...,   4.84000000e-02\n",
      "    1.48000000e-02   8.28602000e+01]\n",
      " ..., \n",
      " [  2.97881000e+03   2.37978000e+03   2.20630000e+03 ...,   8.60000000e-03\n",
      "    2.50000000e-03   4.35231000e+01]\n",
      " [  2.89492000e+03   2.53201000e+03   2.17703330e+03 ...,   2.45000000e-02\n",
      "    7.50000000e-03   9.34941000e+01]\n",
      " [  2.94492000e+03   2.45076000e+03   2.19544440e+03 ...,   1.62000000e-02\n",
      "    4.50000000e-03   1.37784400e+02]]\n"
     ]
    }
   ],
   "source": [
    "train_data, test_data, train_labels, test_labels = train_test_split(features, labels, test_size=perc, random_state=20)\n",
    "print features"
   ]
  },
  {
   "cell_type": "markdown",
   "metadata": {
    "ein.tags": "worksheet-0",
    "slideshow": {
     "slide_type": "-"
    }
   },
   "source": [
    "# Baseline classification\n",
    "After splitting data, time to create dummy classifiers, GaussianNaiveBayes, kNN and MLP Classifier using default parameters"
   ]
  },
  {
   "cell_type": "code",
   "execution_count": 130,
   "metadata": {
    "autoscroll": false,
    "collapsed": false,
    "ein.tags": "worksheet-0",
    "slideshow": {
     "slide_type": "-"
    }
   },
   "outputs": [
    {
     "name": "stdout",
     "output_type": "stream",
     "text": [
      "Naive Bayes : 0.195329087049\n",
      "stratified : 0.870488322718\n",
      "most_frequent : 0.944798301486\n",
      "prior : 0.944798301486\n",
      "uniform : 0.464968152866\n",
      "constant :"
     ]
    },
    {
     "name": "stdout",
     "output_type": "stream",
     "text": [
      " 0.0552016985138\n"
     ]
    },
    {
     "name": "stdout",
     "output_type": "stream",
     "text": [
      "kNN : 0.944798301486\n",
      "default_clf_Mlp : 0.944798301486\n",
      "['Gaussian', 'stratified', 'most_frequent', 'prior', 'uniform', 'constant', 'kNN', 'MLP']\n",
      "[0.011365890502929688, 0.0004050731658935547, 0.00034618377685546875, 0.00034308433532714844, 0.0003399848937988281, 0.0003650188446044922, 0.017032861709594727, 0.1422278881072998]\n"
     ]
    }
   ],
   "source": [
    "import time\n",
    "from sklearn.metrics import confusion_matrix\n",
    "from sklearn.metrics import f1_score\n",
    "from sklearn.metrics import precision_score\n",
    "from sklearn.metrics import recall_score\n",
    "from sklearn.naive_bayes import GaussianNB\n",
    "from sklearn.neighbors import KNeighborsClassifier\n",
    "from sklearn.dummy import DummyClassifier\n",
    "\n",
    "conf = []\n",
    "macro = []\n",
    "weighted = []\n",
    "precision = []\n",
    "recall = []\n",
    "time_array = []\n",
    "\n",
    "# Naive Bayes\n",
    "clf_names = [\"Gaussian\"]\n",
    "bayessian = GaussianNB()\n",
    "\n",
    "start_time = time.time()    \n",
    "bayessian.fit(train_data, train_labels)\n",
    "time_array += [ time.time() - start_time]\n",
    "\n",
    "results = bayessian.predict(test_data)\n",
    "\n",
    "conf.append( confusion_matrix(test_labels, results))\n",
    "macro.append( f1_score(test_labels, results, average='macro'))\n",
    "weighted.append(f1_score(test_labels, results, average='weighted'))\n",
    "precision.append(  precision_score(test_labels, results))\n",
    "recall.append(recall_score(test_labels, results))\n",
    "print \"Naive Bayes :\",accuracy_score(results,test_labels)\n",
    "\n",
    "state = 1\n",
    "dummy_strategies = [ 'stratified', 'most_frequent', 'prior', 'uniform', 'constant']\n",
    "clf_names += dummy_strategies\n",
    "# dummy_classifiers= {}\n",
    "for i in dummy_strategies:\n",
    "    if (i == 'constant'):\n",
    "        dummy_classifiers=DummyClassifier(strategy=i, constant=state)\n",
    "    else:\n",
    "        dummy_classifiers=DummyClassifier(strategy=i)\n",
    "\n",
    "    start_time = time.time()\n",
    "    dummy_classifiers.fit(train_data,train_labels)\n",
    "    time_array += [time.time() - start_time]\n",
    "\n",
    "    results = dummy_classifiers.predict(test_data)\n",
    "    conf.append( confusion_matrix(test_labels, results))\n",
    "    macro += [f1_score(test_labels, results, average='macro')]\n",
    "    weighted.append(  f1_score(test_labels, results, average='weighted'))\n",
    "    precision.append( precision_score(test_labels, results))\n",
    "    recall.append(  recall_score(test_labels, results))\n",
    "    print dummy_classifiers.strategy, \":\", accuracy_score(results,test_labels)\n",
    "\n",
    "\n",
    "\n",
    "# kNN\n",
    "clf_names += [\"kNN\"]\n",
    "clf_neigh = KNeighborsClassifier()\n",
    "\n",
    "start_time = time.time()    \n",
    "clf_neigh.fit(train_data,train_labels)\n",
    "time_array += [ time.time() - start_time]\n",
    "\n",
    "results = clf_neigh.predict(test_data)\n",
    "\n",
    "conf.append( confusion_matrix(test_labels, results))\n",
    "macro.append( f1_score(test_labels, results, average='macro'))\n",
    "weighted.append(f1_score(test_labels, results, average='weighted'))\n",
    "precision.append(  precision_score(test_labels, results))\n",
    "recall.append(recall_score(test_labels, results))\n",
    "print \"kNN :\",accuracy_score(results,test_labels)\n",
    "\n",
    "clf_names += ['MLP']\n",
    "    \n",
    "default_clf_Mlp = MLPClassifier();\n",
    "\n",
    "start_time = time.time()    \n",
    "default_clf_Mlp.fit(train_data, train_labels)\n",
    "time_array += [ time.time() - start_time]\n",
    "results = default_clf_Mlp.predict(test_data)\n",
    "conf.append( confusion_matrix(test_labels, results))\n",
    "macro.append( f1_score(test_labels, results, average='macro'))\n",
    "weighted.append(f1_score(test_labels, results, average='weighted'))\n",
    "precision.append(  precision_score(test_labels, results))\n",
    "recall.append(recall_score(test_labels, results))\n",
    "print \"default_clf_Mlp :\",accuracy_score(results,test_labels)\n",
    "\n",
    "print clf_names\n",
    "print time_array\n"
   ]
  },
  {
   "cell_type": "markdown",
   "metadata": {
    "ein.tags": "worksheet-0",
    "slideshow": {
     "slide_type": "-"
    }
   },
   "source": [
    "time to see our metrics"
   ]
  },
  {
   "cell_type": "code",
   "execution_count": 131,
   "metadata": {
    "autoscroll": false,
    "collapsed": false,
    "ein.tags": "worksheet-0",
    "slideshow": {
     "slide_type": "-"
    }
   },
   "outputs": [
    {
     "name": "stdout",
     "output_type": "stream",
     "text": [
      "Gaussian\n",
      "[[ 69 376]\n",
      " [  3  23]]\n",
      "stratified\n",
      "[[407  38]\n",
      " [ 23   3]]\n",
      "most_frequent\n",
      "[[445   0]\n",
      " [ 26   0]]\n",
      "prior\n",
      "[[445   0]\n",
      " [ 26   0]]\n",
      "uniform\n",
      "[[209 236]\n",
      " [ 16  10]]\n",
      "constant\n",
      "[[  0 445]\n",
      " [  0  26]]\n",
      "kNN\n",
      "[[443   2]\n",
      " [ 24   2]]\n",
      "MLP\n",
      "[[445   0]\n",
      " [ 26   0]]\n"
     ]
    },
    {
     "data": {
      "text/plain": [
       "<Container object of 8 artists>"
      ]
     },
     "execution_count": 131,
     "metadata": {},
     "output_type": "execute_result"
    },
    {
     "data": {
      "image/png": "[encoded data removed]",
      "text/plain": [
       "<matplotlib.figure.Figure at 0x7efd42950a90>"
      ]
     },
     "metadata": {},
     "output_type": "display_data"
    },
    {
     "data": {
      "image/png": "[encoded data removed]",
      "text/plain": [
       "<matplotlib.figure.Figure at 0x7efd334276d0>"
      ]
     },
     "metadata": {},
     "output_type": "display_data"
    },
    {
     "data": {
      "image/png": "[encoded data removed]",
      "text/plain": [
       "<matplotlib.figure.Figure at 0x7efd31537fd0>"
      ]
     },
     "metadata": {},
     "output_type": "display_data"
    },
    {
     "data": {
      "image/png": "[encoded data removed]",
      "text/plain": [
       "<matplotlib.figure.Figure at 0x7efd32fc6710>"
      ]
     },
     "metadata": {},
     "output_type": "display_data"
    },
    {
     "data": {
      "image/png": "[encoded data removed]",
      "text/plain": [
       "<matplotlib.figure.Figure at 0x7efd3156be90>"
      ]
     },
     "metadata": {},
     "output_type": "display_data"
    }
   ],
   "source": [
    "import matplotlib.pyplot as plt\n",
    "\n",
    "for i in range(0,len(conf)):\n",
    "    print clf_names[i]\n",
    "    print conf[i]\n",
    "    \n",
    "\n",
    "fig = 1\n",
    "plt.figure(fig)\n",
    "plt.suptitle('f1_macro')\n",
    "plt.bar(range(len(macro)),macro,tick_label=clf_names)\n",
    "\n",
    "fig +=1\n",
    "plt.figure(fig)\n",
    "plt.suptitle('f1_weighted')\n",
    "plt.bar(range(len(weighted)),weighted,tick_label=clf_names)\n",
    "\n",
    "fig +=1\n",
    "plt.figure(fig)\n",
    "plt.suptitle('precision')\n",
    "plt.bar(range(len(precision)),precision,tick_label=clf_names)\n",
    "\n",
    "fig +=1\n",
    "plt.figure(fig)\n",
    "plt.suptitle('recall')\n",
    "plt.bar(range(len(recall)),recall,tick_label=clf_names)\n",
    "\n",
    "fig +=1\n",
    "plt.figure(fig)\n",
    "plt.suptitle('time')\n",
    "plt.bar(range(len(time_array)),time_array,tick_label=clf_names)\n",
    "\n"
   ]
  },
  {
   "cell_type": "markdown",
   "metadata": {
    "deletable": true,
    "editable": true,
    "ein.tags": "worksheet-0",
    "slideshow": {
     "slide_type": "-"
    }
   },
   "source": [
    "# Hyperparameter Estimation\n",
    "## Pipeline\n"
   ]
  },
  {
   "cell_type": "code",
   "execution_count": 132,
   "metadata": {
    "autoscroll": false,
    "collapsed": false,
    "deletable": true,
    "editable": true,
    "ein.tags": "worksheet-0",
    "slideshow": {
     "slide_type": "-"
    }
   },
   "outputs": [],
   "source": [
    "from imblearn.pipeline import Pipeline\n",
    "from sklearn import neighbors\n",
    "from sklearn.feature_selection import VarianceThreshold\n",
    "from sklearn.preprocessing import StandardScaler \n",
    "from imblearn.over_sampling import RandomOverSampler\n",
    "from sklearn.decomposition import PCA\n",
    "\n",
    "selector = VarianceThreshold()\n",
    "scaler = StandardScaler()\n",
    "sampler = RandomOverSampler()\n",
    "pca = PCA()\n",
    "classifier = neighbors.KNeighborsClassifier(n_jobs=-1) \n",
    "knn_pipe = Pipeline(steps=[('selector', selector), ('scaler', scaler), ('sampler', sampler), ('pca', pca), ('kNN', classifier)], memory = 'tmp')"
   ]
  },
  {
   "cell_type": "code",
   "execution_count": 133,
   "metadata": {
    "autoscroll": false,
    "collapsed": false,
    "deletable": true,
    "editable": true,
    "ein.tags": "worksheet-0",
    "slideshow": {
     "slide_type": "-"
    }
   },
   "outputs": [
    {
     "name": "stdout",
     "output_type": "stream",
     "text": [
      "             precision    recall  f1-score   support\n",
      "\n",
      "        0.0       0.98      0.89      0.93       445\n",
      "        1.0       0.25      0.65      0.36        26\n",
      "\n",
      "avg / total       0.94      0.87      0.90       471\n",
      "\n"
     ]
    }
   ],
   "source": [
    "knn_pipe.fit(train_data,train_labels)\n",
    "pred = pipe.predict(test_data)\n",
    "print classification_report(test_labels, pred)"
   ]
  },
  {
   "cell_type": "code",
   "execution_count": 134,
   "metadata": {
    "autoscroll": false,
    "collapsed": false,
    "ein.tags": "worksheet-0",
    "slideshow": {
     "slide_type": "-"
    }
   },
   "outputs": [
    {
     "name": "stdout",
     "output_type": "stream",
     "text": [
      "             precision    recall  f1-score   support\n",
      "\n",
      "        0.0       0.98      0.89      0.93       445\n",
      "        1.0       0.25      0.65      0.36        26\n",
      "\n",
      "avg / total       0.94      0.87      0.90       471\n",
      "\n"
     ]
    }
   ],
   "source": [
    "clf = MLPClassifier()\n",
    "\n",
    "mlp_pipe = Pipeline(steps=[('selector', selector), ('scaler', scaler), ('sampler', sampler), ('pca', pca), ('Mlp', clf)], memory = 'tmp')\n",
    "mlp_pipe.fit(train_data,train_labels)\n",
    "pred = pipe.predict(test_data)\n",
    "print classification_report(test_labels, pred)\n"
   ]
  },
  {
   "cell_type": "code",
   "execution_count": 135,
   "metadata": {
    "autoscroll": false,
    "collapsed": false,
    "ein.tags": "worksheet-0",
    "slideshow": {
     "slide_type": "-"
    }
   },
   "outputs": [
    {
     "name": "stdout",
     "output_type": "stream",
     "text": [
      "             precision    recall  f1-score   support\n",
      "\n",
      "        0.0       0.98      0.89      0.93       445\n",
      "        1.0       0.25      0.65      0.36        26\n",
      "\n",
      "avg / total       0.94      0.87      0.90       471\n",
      "\n"
     ]
    }
   ],
   "source": [
    "# gaussian Pipeline\n",
    "\n",
    "opt_conf = []\n",
    "opt_macro = []\n",
    "opt_weighted = []\n",
    "opt_precision = []\n",
    "opt_recall = []\n",
    "opt_time_array = []\n",
    "\n",
    "clf = MLPClassifier()\n",
    "clf_names = ['Gaussian']\n",
    "gauss_pipe = Pipeline(steps=[('selector', selector), ('scaler', scaler), ('sampler', sampler), ('pca', pca), ('Gaussian', clf)], memory = 'tmp')\n",
    "gauss_pipe.fit(train_data,train_labels)\n",
    "pred = pipe.predict(test_data)\n",
    "\n",
    "opt_conf.append( confusion_matrix(test_labels, pred))\n",
    "opt_macro += [f1_score(test_labels, pred, average='macro')]\n",
    "opt_weighted.append(  f1_score(test_labels, pred, average='weighted'))\n",
    "opt_precision.append( precision_score(test_labels, pred))\n",
    "opt_recall.append(  recall_score(test_labels, pred))\n",
    "\n",
    "print classification_report(test_labels, pred)\n"
   ]
  },
  {
   "cell_type": "code",
   "execution_count": 136,
   "metadata": {
    "autoscroll": false,
    "collapsed": false,
    "ein.tags": "worksheet-0",
    "slideshow": {
     "slide_type": "-"
    }
   },
   "outputs": [
    {
     "name": "stdout",
     "output_type": "stream",
     "text": [
      "['Gaussian', 'stratified', 'most_frequent', 'prior', 'uniform', 'constant']\n"
     ]
    },
    {
     "name": "stdout",
     "output_type": "stream",
     "text": [
      "stratified :              precision    recall  f1-score   support\n",
      "\n",
      "        0.0       0.98      0.89      0.93       445\n",
      "        1.0       0.25      0.65      0.36        26\n",
      "\n",
      "avg / total       0.94      0.87      0.90       471\n",
      "\n"
     ]
    },
    {
     "name": "stdout",
     "output_type": "stream",
     "text": [
      "most_frequent :              precision    recall  f1-score   support\n",
      "\n",
      "        0.0       0.98      0.89      0.93       445\n",
      "        1.0       0.25      0.65      0.36        26\n",
      "\n",
      "avg / total       0.94      0.87      0.90       471\n",
      "\n"
     ]
    },
    {
     "name": "stdout",
     "output_type": "stream",
     "text": [
      "prior :              precision    recall  f1-score   support\n",
      "\n",
      "        0.0       0.98      0.89      0.93       445\n",
      "        1.0       0.25      0.65      0.36        26\n",
      "\n",
      "avg / total       0.94      0.87      0.90       471\n",
      "\n"
     ]
    },
    {
     "name": "stdout",
     "output_type": "stream",
     "text": [
      "uniform :              precision    recall  f1-score   support\n",
      "\n",
      "        0.0       0.98      0.89      0.93       445\n",
      "        1.0       0.25      0.65      0.36        26\n",
      "\n",
      "avg / total       0.94      0.87      0.90       471\n",
      "\n"
     ]
    },
    {
     "name": "stdout",
     "output_type": "stream",
     "text": [
      "constant :              precision    recall  f1-score   support\n",
      "\n",
      "        0.0       0.98      0.89      0.93       445\n",
      "        1.0       0.25      0.65      0.36        26\n",
      "\n",
      "avg / total       0.94      0.87      0.90       471\n",
      "\n"
     ]
    }
   ],
   "source": [
    "# for all dummies\n",
    "dummy_strategies = [ 'stratified', 'most_frequent', 'prior', 'uniform', 'constant']\n",
    "clf_names += dummy_strategies\n",
    "print clf_names\n",
    "dummy_pipes = []\n",
    "for i in dummy_strategies:\n",
    "    if (i == 'constant'):\n",
    "        dummy_classifiers=DummyClassifier(strategy=i, constant=state)\n",
    "    else:\n",
    "        dummy_classifiers=DummyClassifier(strategy=i)\n",
    "\n",
    "    dm_pipe= Pipeline(steps=[('selector', selector), ('scaler', scaler), ('sampler', sampler), ('pca', pca), ('Dummy', dummy_classifiers)], memory = 'tmp')\n",
    "    dummy_pipes +=[dm_pipe]\n",
    "    dm_pipe.fit(train_data,train_labels)\n",
    "    pred = pipe.predict(test_data)\n",
    "    opt_conf.append( confusion_matrix(test_labels, pred))\n",
    "    opt_macro += [f1_score(test_labels, pred, average='macro')]\n",
    "    opt_weighted.append(  f1_score(test_labels, pred, average='weighted'))\n",
    "    opt_precision.append( precision_score(test_labels, pred))\n",
    "    opt_recall.append(  recall_score(test_labels, pred))\n",
    "\n",
    "    print i,\":\",classification_report(test_labels, pred)"
   ]
  },
  {
   "cell_type": "markdown",
   "metadata": {
    "deletable": true,
    "editable": true,
    "ein.tags": "worksheet-0",
    "slideshow": {
     "slide_type": "-"
    }
   },
   "source": [
    "## Grid Search\n"
   ]
  },
  {
   "cell_type": "code",
   "execution_count": 137,
   "metadata": {
    "autoscroll": false,
    "collapsed": false,
    "deletable": true,
    "editable": true,
    "ein.tags": "worksheet-0",
    "slideshow": {
     "slide_type": "-"
    }
   },
   "outputs": [],
   "source": [
    "# knn Grid Search\n",
    "from sklearn.model_selection import GridSearchCV\n",
    "\n",
    "clf_names += ['kNN']\n",
    "threshold = [0, 0.01, 0.005]\n",
    "comps = [20, 30, 40, 50, 60]\n",
    "k = [1, 5, 10, 20, 30, 40]\n",
    "knn_estimator = GridSearchCV(knn_pipe, dict(selector__threshold=threshold, pca__n_components=comps, kNN__n_neighbors=k), scoring='f1_macro', n_jobs=-1)"
   ]
  },
  {
   "cell_type": "code",
   "execution_count": 138,
   "metadata": {
    "autoscroll": false,
    "collapsed": false,
    "deletable": true,
    "editable": true,
    "ein.tags": "worksheet-0",
    "slideshow": {
     "slide_type": "-"
    }
   },
   "outputs": [
    {
     "name": "stdout",
     "output_type": "stream",
     "text": [
      "             precision    recall  f1-score   support\n",
      "\n",
      "        0.0       0.95      0.92      0.93       445\n",
      "        1.0       0.14      0.23      0.17        26\n",
      "\n",
      "avg / total       0.91      0.88      0.89       471\n",
      "\n"
     ]
    }
   ],
   "source": [
    "knn_estimator.fit(train_data, train_labels)\n",
    "pred = knn_estimator.predict(test_data)\n",
    "\n",
    "opt_conf.append( confusion_matrix(test_labels, pred))\n",
    "opt_macro += [f1_score(test_labels, pred, average='macro')]\n",
    "opt_weighted.append(  f1_score(test_labels, pred, average='weighted'))\n",
    "opt_precision.append( precision_score(test_labels, pred))\n",
    "opt_recall.append(  recall_score(test_labels, pred))\n",
    "\n",
    "print classification_report(test_labels, pred)"
   ]
  },
  {
   "cell_type": "code",
   "execution_count": 139,
   "metadata": {
    "autoscroll": false,
    "collapsed": false,
    "ein.tags": "worksheet-0",
    "slideshow": {
     "slide_type": "slide"
    }
   },
   "outputs": [
    {
     "name": "stdout",
     "output_type": "stream",
     "text": [
      "             precision    recall  f1-score   support\n",
      "\n",
      "        0.0       0.95      0.96      0.96       445\n",
      "        1.0       0.15      0.12      0.13        26\n",
      "\n",
      "avg / total       0.90      0.92      0.91       471\n",
      "\n"
     ]
    }
   ],
   "source": [
    "# MLP grid search\n",
    "clf_names +=[\"MLP\"]\n",
    "# hidden_layer_opts = range(120,170,20)\n",
    "# act_opts = ['identity', 'logistic', 'tanh', 'relu']\n",
    "# solver_opts = ['lbfgs', 'sgd', 'adam']\n",
    "# learn_opts = ['constant', 'invscaling', 'adaptive']\n",
    "# alpha_opt =  np.logspace(-5, 3, 5)\n",
    "# max_iter_opts = range(50, 460, 50)\n",
    "hidden_layer_opts = [160]\n",
    "act_opts = [ 'relu']\n",
    "solver_opts = ['lbfgs']\n",
    "learn_opts = ['constant',]\n",
    "alpha_opt =  [0.1]\n",
    "max_iter_opts = [400]\n",
    "\n",
    "\n",
    "mlp_estimator   = GridSearchCV(mlp_pipe, param_grid=dict(selector__threshold=threshold, pca__n_components=comps, Mlp__hidden_layer_sizes=hidden_layer_opts, Mlp__activation=act_opts, Mlp__max_iter=max_iter_opts, Mlp__solver=solver_opts, Mlp__learning_rate=learn_opts, Mlp__alpha=alpha_opt ), scoring='f1_macro', n_jobs=-1)\n",
    "\n",
    "mlp_estimator.fit(train_data, train_labels)\n",
    "\n",
    "pred = mlp_estimator.predict(test_data)\n",
    "opt_conf.append( confusion_matrix(test_labels, pred))\n",
    "opt_macro += [f1_score(test_labels, pred, average='macro')]\n",
    "opt_weighted.append(  f1_score(test_labels, pred, average='weighted'))\n",
    "opt_precision.append( precision_score(test_labels, pred))\n",
    "opt_recall.append(  recall_score(test_labels, pred))\n",
    "\n",
    "print classification_report(test_labels, pred)\n",
    "\n"
   ]
  },
  {
   "cell_type": "markdown",
   "metadata": {
    "deletable": true,
    "editable": true,
    "ein.tags": "worksheet-0",
    "slideshow": {
     "slide_type": "-"
    }
   },
   "source": [
    "time to check our metrics\n"
   ]
  },
  {
   "cell_type": "code",
   "execution_count": 140,
   "metadata": {
    "autoscroll": false,
    "collapsed": false,
    "deletable": true,
    "editable": true,
    "ein.tags": "worksheet-0",
    "slideshow": {
     "slide_type": "-"
    }
   },
   "outputs": [
    {
     "name": "stdout",
     "output_type": "stream",
     "text": [
      "['Gaussian', 'stratified', 'most_frequent', 'prior', 'uniform', 'constant', 'kNN', 'MLP']\n",
      "Gaussian\n",
      "[[394  51]\n",
      " [  9  17]]\n",
      "stratified\n",
      "[[394  51]\n",
      " [  9  17]]\n",
      "most_frequent\n",
      "[[394  51]\n",
      " [  9  17]]\n",
      "prior\n",
      "[[394  51]\n",
      " [  9  17]]\n",
      "uniform\n",
      "[[394  51]\n",
      " [  9  17]]\n",
      "constant\n",
      "[[394  51]\n",
      " [  9  17]]\n",
      "kNN\n",
      "[[408  37]\n",
      " [ 20   6]]\n",
      "MLP\n",
      "[[428  17]\n",
      " [ 23   3]]\n"
     ]
    },
    {
     "data": {
      "text/plain": [
       "<Container object of 8 artists>"
      ]
     },
     "execution_count": 140,
     "metadata": {},
     "output_type": "execute_result"
    },
    {
     "data": {
      "image/png": "[encoded data removed]",
      "text/plain": [
       "<matplotlib.figure.Figure at 0x7efd427fee10>"
      ]
     },
     "metadata": {},
     "output_type": "display_data"
    },
    {
     "data": {
      "image/png": "[encoded data removed]",
      "text/plain": [
       "<matplotlib.figure.Figure at 0x7efd330a7c10>"
      ]
     },
     "metadata": {},
     "output_type": "display_data"
    },
    {
     "data": {
      "image/png": "[encoded data removed]",
      "text/plain": [
       "<matplotlib.figure.Figure at 0x7efd3156bb10>"
      ]
     },
     "metadata": {},
     "output_type": "display_data"
    },
    {
     "data": {
      "image/png": "[encoded data removed]",
      "text/plain": [
       "<matplotlib.figure.Figure at 0x7efd4284b6d0>"
      ]
     },
     "metadata": {},
     "output_type": "display_data"
    }
   ],
   "source": [
    "\n",
    "print clf_names\n",
    "\n",
    "for i in range(0,len(conf)):\n",
    "    print clf_names[i]\n",
    "    print opt_conf[i]\n",
    "\n",
    "fig = 1\n",
    "plt.figure(fig)\n",
    "plt.suptitle('f1_macro')\n",
    "plt.bar(range(len(opt_macro)),opt_macro,tick_label=clf_names)\n",
    "\n",
    "fig +=1\n",
    "plt.figure(fig)\n",
    "plt.suptitle('f1_weighted')\n",
    "plt.bar(range(len(opt_weighted)),opt_weighted,tick_label=clf_names)\n",
    "\n",
    "fig +=1\n",
    "plt.figure(fig)\n",
    "plt.suptitle('precision')\n",
    "plt.bar(range(len(opt_precision)),opt_precision,tick_label=clf_names)\n",
    "\n",
    "fig +=1\n",
    "plt.figure(fig)\n",
    "plt.suptitle('recall')\n",
    "plt.bar(range(len(opt_recall)),opt_recall,tick_label=clf_names)"
   ]
  }
 ],
 "metadata": {
  "kernelspec": {
   "display_name": "Python 2",
   "name": "python2"
  },
  "language_info": {
   "codemirror_mode": {
    "name": "ipython",
    "version": 2
   },
   "file_extension": ".py",
   "mimetype": "text/x-python",
   "name": "python",
   "nbconvert_exporter": "python",
   "pygments_lexer": "ipython2",
   "version": "2.7.12"
  },
  "name": "Notebook2 - Team 83.ipynb"
 },
 "nbformat": 4,
 "nbformat_minor": 2
}
