{
 "cells": [
  {
   "cell_type": "markdown",
   "metadata": {
    "ein.tags": "worksheet-0",
    "slideshow": {
     "slide_type": "-"
    }
   },
   "source": [
    "# Section 2\n",
    "\n",
    "## Efstathios Galanakis 03112172\n",
    "## Ioannis Tzanettis 03112506\n",
    "## Team Number: 83\n",
    "\n",
    "\n",
    "\n",
    "Datasheet Name: SECOM\n",
    "Number of features: 1567\n",
    "Number of classes: 591\n"
   ]
  },
  {
   "cell_type": "markdown",
   "metadata": {
    "ein.tags": "worksheet-0",
    "slideshow": {
     "slide_type": "-"
    }
   },
   "source": [
    "# Insert Data\n",
    "\n",
    "First we read data from file and we separate train data from test data.\n"
   ]
  },
  {
   "cell_type": "code",
   "execution_count": 8,
   "metadata": {
    "autoscroll": false,
    "ein.tags": "worksheet-0",
    "slideshow": {
     "slide_type": "-"
    }
   },
   "outputs": [
    {
     "name": "stdout",
     "output_type": "stream",
     "text": [
      "[-1 -1 1 ..., -1 -1 -1]\n",
      "\n"
     ]
    }
   ],
   "source": [
    "import numpy as np\n",
    "import pandas as pd\n",
    "from sklearn.neural_network import MLPClassifier\n",
    "from sklearn.metrics import accuracy_score\n",
    "from sklearn.metrics import classification_report\n",
    "from sklearn.model_selection import train_test_split\n",
    "\n",
    "perc = 0.3\n",
    "k = 5\n",
    "\n",
    "features = []\n",
    "labels = []\n",
    "\n",
    "labels_path = './big/secom_labels.data'\n",
    "datasheet_labels = pd.read_csv(labels_path, header=None, delim_whitespace=True)\n",
    "labels = datasheet_labels.values[:,0]\n",
    "print labels\n",
    "print "
   ]
  },
  {
   "cell_type": "markdown",
   "metadata": {
    "ein.tags": "worksheet-0",
    "slideshow": {
     "slide_type": "-"
    }
   },
   "source": [
    "After reading we have to replace missing values"
   ]
  },
  {
   "cell_type": "code",
   "execution_count": 9,
   "metadata": {
    "autoscroll": false,
    "ein.tags": "worksheet-0",
    "slideshow": {
     "slide_type": "-"
    }
   },
   "outputs": [
    {
     "name": "stdout",
     "output_type": "stream",
     "text": [
      "[[  3.03093000e+03   2.56400000e+03   2.18773330e+03 ...,   1.64749042e-02\n",
      "    5.28333333e-03   9.96700663e+01]\n",
      " [  3.09578000e+03   2.46514000e+03   2.23042220e+03 ...,   2.01000000e-02\n",
      "    6.00000000e-03   2.08204500e+02]\n",
      " [  2.93261000e+03   2.55994000e+03   2.18641110e+03 ...,   4.84000000e-02\n",
      "    1.48000000e-02   8.28602000e+01]\n",
      " ..., \n",
      " [  2.97881000e+03   2.37978000e+03   2.20630000e+03 ...,   8.60000000e-03\n",
      "    2.50000000e-03   4.35231000e+01]\n",
      " [  2.89492000e+03   2.53201000e+03   2.17703330e+03 ...,   2.45000000e-02\n",
      "    7.50000000e-03   9.34941000e+01]\n",
      " [  2.94492000e+03   2.45076000e+03   2.19544440e+03 ...,   1.62000000e-02\n",
      "    4.50000000e-03   1.37784400e+02]]\n"
     ]
    }
   ],
   "source": [
    "from sklearn.preprocessing import Imputer\n",
    "\n",
    "imp = Imputer(missing_values='NaN', strategy='mean', axis=0)\n",
    "\n",
    "features_path = './big/secom.data'\n",
    "datasheet_features = pd.read_csv(features_path, header=None, delim_whitespace=True)\n",
    "features = imp.fit_transform(datasheet_features)\n",
    "print features"
   ]
  },
  {
   "cell_type": "markdown",
   "metadata": {
    "ein.tags": "worksheet-0",
    "slideshow": {
     "slide_type": "-"
    }
   },
   "source": [
    "After we replace the missing value, it's time to seperate train and test data"
   ]
  },
  {
   "cell_type": "code",
   "execution_count": 10,
   "metadata": {
    "autoscroll": false,
    "ein.tags": "worksheet-0",
    "slideshow": {
     "slide_type": "-"
    }
   },
   "outputs": [
    {
     "name": "stdout",
     "output_type": "stream",
     "text": [
      "(1567, 590) (1567,)\n",
      "(1096, 590) (471, 590) (1096,) (471,)\n"
     ]
    }
   ],
   "source": [
    "x_train, x_test, y_train, y_test = train_test_split(features,labels,test_size=perc)\n",
    "y_train = y_train.ravel()\n",
    "print  features.shape, labels.shape\n",
    "print x_train.shape, x_test.shape, y_train.shape, y_test.shape\n"
   ]
  },
  {
   "cell_type": "markdown",
   "metadata": {
    "ein.tags": "worksheet-0",
    "slideshow": {
     "slide_type": "-"
    }
   },
   "source": [
    "## Preprocessing\n",
    "### Feature selection\n",
    "We use VarianceThreshold in order to remove features that remain steady for all the samples"
   ]
  },
  {
   "cell_type": "code",
   "execution_count": 11,
   "metadata": {
    "autoscroll": false,
    "ein.tags": "worksheet-0",
    "slideshow": {
     "slide_type": "-"
    }
   },
   "outputs": [
    {
     "name": "stdout",
     "output_type": "stream",
     "text": [
      "(1096, 366)\n",
      "(471, 366)\n"
     ]
    }
   ],
   "source": [
    "from sklearn.feature_selection import VarianceThreshold\n",
    "\n",
    "selector = VarianceThreshold(0.001)\n",
    "reduced_train_data = selector.fit_transform(x_train)\n",
    "print reduced_train_data.shape\n",
    "\n",
    "selected_features = selector.get_support()\n",
    "reduced_test_data = x_test[:,selected_features]\n",
    "\n",
    "print reduced_test_data.shape\n"
   ]
  },
  {
   "cell_type": "code",
   "execution_count": 12,
   "metadata": {
    "autoscroll": false,
    "ein.tags": "worksheet-0",
    "scrolled": false,
    "slideshow": {
     "slide_type": "-"
    }
   },
   "outputs": [
    {
     "data": {
      "text/plain": [
       "MLPClassifier(activation='relu', alpha=0.0001, batch_size='auto', beta_1=0.9,\n",
       "       beta_2=0.999, early_stopping=False, epsilon=1e-08,\n",
       "       hidden_layer_sizes=(100,), learning_rate='constant',\n",
       "       learning_rate_init=0.001, max_iter=200, momentum=0.9,\n",
       "       nesterovs_momentum=True, power_t=0.5, random_state=None,\n",
       "       shuffle=True, solver='adam', tol=0.0001, validation_fraction=0.1,\n",
       "       verbose=False, warm_start=False)"
      ]
     },
     "execution_count": 12,
     "metadata": {},
     "output_type": "execute_result"
    }
   ],
   "source": [
    "dummy_clf = MLPClassifier();\n",
    "dummy_clf.fit(x_train, y_train.astype(int))\n",
    "\n"
   ]
  },
  {
   "cell_type": "markdown",
   "metadata": {
    "ein.tags": "worksheet-0",
    "slideshow": {
     "slide_type": "-"
    }
   },
   "source": [
    "### Feature Scaling\n",
    "We transform our train data according to the standard score given by:$$z = {X- \\mu \\over \\sigma}$$\n"
   ]
  },
  {
   "cell_type": "code",
   "execution_count": 15,
   "metadata": {},
   "outputs": [
    {
     "name": "stdout",
     "output_type": "stream",
     "text": [
      "[[-0.13100813 -0.9564189   0.22966376 ..., -0.064423    0.96748874\n",
      "  -0.0555407 ]\n",
      " [ 0.65858237  0.21797854  0.56693852 ...,  0.01442017  0.79351671\n",
      "  -0.14827836]\n",
      " [ 0.33879055 -0.08535903 -0.28780796 ...,  0.01442017 -0.09350976\n",
      "  -0.20168749]\n",
      " ..., \n",
      " [ 0.6762712  -0.18082442  0.56883353 ...,  0.01442017 -0.79592308\n",
      "  -0.22374107]\n",
      " [ 0.57849513 -0.34962009 -1.22260594 ...,  0.01442017 -0.32249429\n",
      "  -0.20168749]\n",
      " [-1.54722902  0.00417069 -0.24987014 ..., -0.30322383 -0.74362105\n",
      "  -0.18983369]]\n",
      "\n",
      "[[ 0.46380247  2.7255498  -1.02675486 ..., -0.02918357 -0.20603154\n",
      "  -0.78920598]\n",
      " [-0.18796032  0.49772205  0.1220827  ..., -0.02918357 -0.07652395\n",
      "  -0.10348694]\n",
      " [ 0.16680321 -0.11567481  0.22290176 ..., -0.02918357 -0.1288418\n",
      "   0.38871458]\n",
      " ..., \n",
      " [ 2.33601411 -1.41439988  0.23004532 ..., -0.02918357 -0.03478654\n",
      "   0.13568609]\n",
      " [ 0.78260936  1.15481433  0.68935622 ..., -0.02918357 -0.14665482\n",
      "  -0.60038678]\n",
      " [-0.4589981   0.70521143 -0.2266316  ...,  0.06455065 -0.18449169\n",
      "   0.02422158]]\n"
     ]
    }
   ],
   "source": [
    "from scipy import stats as st\n",
    "\n",
    "std_train_data = st.zscore(reduced_train_data)\n",
    "print std_train_data\n",
    "print \"\"\n",
    "std_test_data = st.zscore(reduced_test_data)\n",
    "print std_test_data"
   ]
  }
 ],
 "metadata": {
  "kernelspec": {
   "display_name": "Python 2",
   "language": "python",
   "name": "python2"
  },
  "language_info": {
   "codemirror_mode": {
    "name": "ipython",
    "version": 2
   },
   "file_extension": ".py",
   "mimetype": "text/x-python",
   "name": "python",
   "nbconvert_exporter": "python",
   "pygments_lexer": "ipython2",
   "version": "2.7.13"
  },
  "name": "Meros Deutero.ipynb"
 },
 "nbformat": 4,
 "nbformat_minor": 2
}
