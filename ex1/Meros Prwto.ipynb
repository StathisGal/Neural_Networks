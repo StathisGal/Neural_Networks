{
 "cells": [
  {
   "cell_type": "markdown",
   "metadata": {
    "ein.tags": "worksheet-0",
    "slideshow": {
     "slide_type": "-"
    }
   },
   "source": [
    "# Section 1\n",
    "\n",
    "## Efstathios Galanakis 03112172\n",
    "## Ioannis Tzanettis 03112506\n",
    "## Team Number: 83\n",
    "\n",
    "\n",
    "Datasheet Name: Sonar (Number S3)\n",
    "Number of features: 60\n",
    "Number of classes: 2 (Mine, Rock)\n"
   ]
  },
  {
   "cell_type": "markdown",
   "metadata": {
    "ein.tags": "worksheet-0",
    "slideshow": {
     "slide_type": "-"
    }
   },
   "source": [
    "# Insert Dataset\n",
    "This datasheet contains data taken from a sonar signal.\n",
    "\n",
    "Taking into account the file sonar.name, which gives us information about the datasheet, there aren't any\n",
    "headers or numbering so when we use the read__csv command, we will add the option header=None. The label of\n",
    "each sample is placed at the last column.\n",
    "\n",
    "We use, as we previously said, the command read_csv in order to read the datasheet from the file\n",
    "sonar.all-data. No changes to the file or the datasheet are needed.\n",
    "\n",
    "The file sonar.names doesn't refer to any missing data so we supposed that there aren't. It says that \n",
    "every feature's value range is between 0.0 and 1.0.\n",
    "\n",
    "We need to convert labels string values to int values so we are going to create the following mapping:\n",
    "mapping = {'R' : 0, 'M' : 1}\n",
    "\n",
    "We have to check if the sample data are unbalanced in case they aren't, to resample them."
   ]
  },
  {
   "cell_type": "code",
   "execution_count": 93,
   "metadata": {
    "autoscroll": false,
    "ein.tags": "worksheet-0",
    "slideshow": {
     "slide_type": "-"
    }
   },
   "outputs": [
    {
     "name": "stdout",
     "output_type": "stream",
     "text": [
      "(208, 61)\n",
      "(208, 60) (208,)\n",
      "0.533653846154\n"
     ]
    }
   ],
   "source": [
    "import numpy as np\n",
    "import pandas as pd\n",
    "from sklearn.preprocessing import Imputer\n",
    "from sklearn.neural_network import MLPClassifier\n",
    "from sklearn.dummy import DummyClassifier\n",
    "from sklearn.metrics import accuracy_score\n",
    "from sklearn.metrics import classification_report\n",
    "from sklearn.model_selection import train_test_split\n",
    "from imblearn.over_sampling import RandomOverSampler\n",
    "\n",
    "features = []\n",
    "labels = []\n",
    "\n",
    "\n",
    "datasheet_path='./small/sonar.all-data'\n",
    "datasheet = pd.read_csv(datasheet_path, header=None)\n",
    "\n",
    "labels = datasheet.iloc[:, [-1]]\n",
    "features = datasheet.iloc[:, 0 :-1].values\n",
    "\n",
    "mapping = {'R' : 0, 'M' : 1}\n",
    "labels = labels.replace(mapping).values.flatten()\n",
    "print datasheet.shape\n",
    "print features.shape, labels.shape\n",
    "\n",
    "# check labels freqs\n",
    "label_freq = np.bincount(labels)/np.float64(labels.size)\n",
    "max_rate = np.max(label_freq)\n",
    "\n",
    "ros = RandomOverSampler(random_state=0)\n",
    "\n",
    "if (max_rate > 0.6):\n",
    "    print \"resampling...\"\n",
    "    features, labels = ros.fit_sample(features,labels)\n",
    "\n",
    "print max_rate\n"
   ]
  },
  {
   "cell_type": "markdown",
   "metadata": {
    "ein.tags": "worksheet-0",
    "slideshow": {
     "slide_type": "-"
    }
   },
   "source": [
    "Test data is 20% of the total data and the rest 80% is consider as train data."
   ]
  },
  {
   "cell_type": "code",
   "execution_count": 94,
   "metadata": {
    "autoscroll": false,
    "ein.tags": "worksheet-0",
    "slideshow": {
     "slide_type": "-"
    }
   },
   "outputs": [
    {
     "name": "stdout",
     "output_type": "stream",
     "text": [
      "(208, 60) (208,)\n",
      "(166, 60) (42, 60) (166,) (42,)\n"
     ]
    }
   ],
   "source": [
    "perc = 0.2\n",
    "\n",
    "x_train, x_test, y_train, y_test = train_test_split(features,labels,test_size=perc,random_state=0)\n",
    "\n",
    "print  features.shape, labels.shape\n",
    "print x_train.shape, x_test.shape, y_train.shape, y_test.shape\n"
   ]
  },
  {
   "cell_type": "markdown",
   "metadata": {
    "ein.tags": "worksheet-0",
    "slideshow": {
     "slide_type": "-"
    }
   },
   "source": [
    "# Baseline classification\n",
    "After spliting the data, it's time to create the dummy classifiers and the MLP classifier with\n",
    "default parameters, in order to compare with their improved versions. For the constant strategy,\n",
    "we will predict M for every state which means we have a Mine there."
   ]
  },
  {
   "cell_type": "code",
   "execution_count": 95,
   "metadata": {
    "autoscroll": false,
    "ein.tags": "worksheet-0",
    "slideshow": {
     "slide_type": "-"
    }
   },
   "outputs": [
    {
     "name": "stdout",
     "output_type": "stream",
     "text": [
      "stratified : 0.47619047619\n",
      "most_frequent : 0.5\n",
      "prior : 0.5\n",
      "uniform : 0.547619047619\n",
      "constant : 0.5\n",
      "default_clf_Mlp : 0.880952380952\n",
      "[0.00041604042053222656, 0.00019693374633789062, 0.00022482872009277344, 0.0002410411834716797, 0.0002968311309814453, 0.3537721633911133]\n"
     ]
    }
   ],
   "source": [
    "import time\n",
    "from sklearn.metrics import confusion_matrix\n",
    "from sklearn.metrics import f1_score\n",
    "from sklearn.metrics import precision_score\n",
    "from sklearn.metrics import recall_score\n",
    "\n",
    "\n",
    "state = 1\n",
    "dummy_strategies = [ 'stratified', 'most_frequent', 'prior', 'uniform', 'constant']\n",
    "conf = []\n",
    "macro = []\n",
    "weighted = []\n",
    "precision = []\n",
    "recall = []\n",
    "time_array = []\n",
    "# dummy_classifiers= {}\n",
    "for i in dummy_strategies:\n",
    "    if (i == 'constant'):\n",
    "        dummy_classifiers=DummyClassifier(strategy=i, constant=state)\n",
    "    else:\n",
    "        dummy_classifiers=DummyClassifier(strategy=i)\n",
    "\n",
    "    start_time = time.time()\n",
    "    dummy_classifiers.fit(x_train,y_train)\n",
    "    time_array += [time.time() - start_time]\n",
    "\n",
    "    results = dummy_classifiers.predict(x_test)\n",
    "    conf.append( confusion_matrix(y_test, results))\n",
    "    macro += [f1_score(y_test, results, average='macro')]\n",
    "    weighted.append(  f1_score(y_test, results, average='weighted'))\n",
    "    precision.append( precision_score(y_test, results))\n",
    "    recall.append(  recall_score(y_test, results))\n",
    "    print dummy_classifiers.strategy, \":\", accuracy_score(results,y_test)\n",
    "    \n",
    "default_clf_Mlp = MLPClassifier();\n",
    "\n",
    "start_time = time.time()    \n",
    "default_clf_Mlp.fit(x_train, y_train)\n",
    "time_array += [ time.time() - start_time]\n",
    "results = default_clf_Mlp.predict(x_test)\n",
    "conf.append( confusion_matrix(y_test, results))\n",
    "macro.append( f1_score(y_test, results, average='macro'))\n",
    "weighted.append(f1_score(y_test, results, average='weighted'))\n",
    "precision.append(  precision_score(y_test, results))\n",
    "recall.append(recall_score(y_test, results))\n",
    "print \"default_clf_Mlp :\",accuracy_score(results,y_test)\n",
    "print time_array"
   ]
  },
  {
   "cell_type": "markdown",
   "metadata": {
    "ein.tags": "worksheet-0",
    "slideshow": {
     "slide_type": "-"
    }
   },
   "source": [
    "Metrics Plots"
   ]
  },
  {
   "cell_type": "code",
   "execution_count": 96,
   "metadata": {
    "autoscroll": false,
    "ein.tags": "worksheet-0",
    "slideshow": {
     "slide_type": "-"
    }
   },
   "outputs": [
    {
     "name": "stdout",
     "output_type": "stream",
     "text": [
      "['stratified', 'most_frequent', 'prior', 'uniform', 'constant', 'MLP']\n"
     ]
    },
    {
     "data": {
      "text/plain": [
       "<Container object of 6 artists>"
      ]
     },
     "execution_count": 96,
     "metadata": {},
     "output_type": "execute_result"
    },
    {
     "data": {
      "image/png": "[encoded data removed]",
      "text/plain": [
       "<matplotlib.figure.Figure at 0x7fca3b6eae90>"
      ]
     },
     "metadata": {},
     "output_type": "display_data"
    },
    {
     "data": {
      "image/png": "[encoded data removed]",
      "text/plain": [
       "<matplotlib.figure.Figure at 0x7fca3b912f10>"
      ]
     },
     "metadata": {},
     "output_type": "display_data"
    },
    {
     "data": {
      "image/png": "[encoded data removed]",
      "text/plain": [
       "<matplotlib.figure.Figure at 0x7fca3c273550>"
      ]
     },
     "metadata": {},
     "output_type": "display_data"
    },
    {
     "data": {
      "image/png": "[encoded data removed]",
      "text/plain": [
       "<matplotlib.figure.Figure at 0x7fca3b7ecd50>"
      ]
     },
     "metadata": {},
     "output_type": "display_data"
    },
    {
     "data": {
      "image/png": "[encoded data removed]",
      "text/plain": [
       "<matplotlib.figure.Figure at 0x7fca3b08c690>"
      ]
     },
     "metadata": {},
     "output_type": "display_data"
    }
   ],
   "source": [
    "import matplotlib.pyplot as plt\n",
    "clf_names = dummy_strategies + ['MLP']\n",
    "print clf_names\n",
    "fig = 1\n",
    "plt.figure(fig)\n",
    "plt.suptitle('f1_macro')\n",
    "plt.bar(range(len(macro)),macro,tick_label=clf_names)\n",
    "\n",
    "fig +=1\n",
    "plt.figure(fig)\n",
    "plt.suptitle('f1_weighted')\n",
    "plt.bar(range(len(weighted)),weighted,tick_label=clf_names)\n",
    "\n",
    "fig +=1\n",
    "plt.figure(fig)\n",
    "plt.suptitle('precision')\n",
    "plt.bar(range(len(precision)),precision,tick_label=clf_names)\n",
    "\n",
    "fig +=1\n",
    "plt.figure(fig)\n",
    "plt.suptitle('recall')\n",
    "plt.bar(range(len(recall)),recall,tick_label=clf_names)\n",
    "\n",
    "fig +=1\n",
    "plt.figure(fig)\n",
    "plt.suptitle('recall')\n",
    "plt.bar(range(len(time_array)),time_array,tick_label=clf_names)\n",
    "\n"
   ]
  },
  {
   "cell_type": "markdown",
   "metadata": {
    "ein.tags": "worksheet-0",
    "slideshow": {
     "slide_type": "-"
    }
   },
   "source": [
    "# Classifier Optimization\n",
    "## Feature selection\n",
    "\n",
    "Now it's time to create our improved MLP classifier. First we create a VarianceThreshold selector with threshold 5%\n",
    "in order to reduce the number of features. Then we use a mask (selected_features) in order to keep the selected features."
   ]
  },
  {
   "cell_type": "code",
   "execution_count": 97,
   "metadata": {
    "autoscroll": false,
    "ein.tags": "worksheet-0",
    "slideshow": {
     "slide_type": "subslide"
    }
   },
   "outputs": [
    {
     "name": "stdout",
     "output_type": "stream",
     "text": [
      "(166, 51)\n",
      "(42, 51)\n"
     ]
    }
   ],
   "source": [
    "from sklearn.feature_selection import VarianceThreshold\n",
    "\n",
    "selector = VarianceThreshold(0.0001)\n",
    "reduced_train_data = selector.fit_transform(x_train)\n",
    "\n",
    "print reduced_train_data.shape\n",
    "\n",
    "selected_features = selector.get_support()\n",
    "reduced_test_data = x_test[:,selected_features]\n",
    "\n",
    "print reduced_test_data.shape"
   ]
  },
  {
   "cell_type": "markdown",
   "metadata": {
    "ein.tags": "worksheet-0",
    "slideshow": {
     "slide_type": "-"
    }
   },
   "source": [
    "## Scaling features\n",
    "We need to scale our data, in order to take values in the range [-1, 1]. So we need to\n",
    "check if exists any value bigger than 1.0 or smaller than -1. If there is no such value, no scalling\n",
    "is needed."
   ]
  },
  {
   "cell_type": "code",
   "execution_count": 98,
   "metadata": {
    "autoscroll": false,
    "ein.tags": "worksheet-0",
    "slideshow": {
     "slide_type": "-"
    }
   },
   "outputs": [
    {
     "name": "stdout",
     "output_type": "stream",
     "text": [
      "(166, 51)\n"
     ]
    }
   ],
   "source": [
    "from sklearn.preprocessing import StandardScaler\n",
    "\n",
    "scaler = StandardScaler()\n",
    "scaled_train_data = scaler.fit_transform(reduced_train_data)\n",
    "scaled_test_data =  scaler.fit_transform(reduced_test_data)\n",
    "\n",
    "print scaled_train_data.shape"
   ]
  },
  {
   "cell_type": "markdown",
   "metadata": {
    "ein.tags": "worksheet-0",
    "slideshow": {
     "slide_type": "-"
    }
   },
   "source": [
    "## Resampling\n",
    "We need to examine if our dataset is balanced, which means that there is no label, whose rate through the dataset\n",
    "is 1.5 times more frequent than the rest of the labels."
   ]
  },
  {
   "cell_type": "code",
   "execution_count": 99,
   "metadata": {
    "autoscroll": false,
    "ein.tags": "worksheet-0",
    "slideshow": {
     "slide_type": "-"
    }
   },
   "outputs": [
    {
     "name": "stdout",
     "output_type": "stream",
     "text": [
      "0.542168674699\n"
     ]
    }
   ],
   "source": [
    "from imblearn.over_sampling import RandomOverSampler\n",
    "\n",
    "label_freq = np.bincount(y_train)/np.float64(y_train.size)\n",
    "max_rate = np.max(label_freq)\n",
    "\n",
    "ros = RandomOverSampler(random_state=0)\n",
    "\n",
    "if (max_rate > 0.6):\n",
    "    print \"resampling...\"\n",
    "    scaled_train_data, y_train = ros.fit_sample(scaled_train_data,y_train)\n",
    "\n",
    "print max_rate"
   ]
  },
  {
   "cell_type": "markdown",
   "metadata": {
    "ein.tags": "worksheet-0",
    "slideshow": {
     "slide_type": "-"
    }
   },
   "source": [
    "## Cross Validation\n",
    "### Create a scorer\n",
    "After data preprocessing, it's time to select the suitable MLP Classifier. We will break our train set into 10 sets\n",
    "and we are going to use 2 metrics: f1_macro and f1_weighted, so we need to make a new scorer which sets the final\n",
    "score as the sum of the previous metrics' score."
   ]
  },
  {
   "cell_type": "code",
   "execution_count": 100,
   "metadata": {
    "autoscroll": false,
    "ein.tags": "worksheet-0",
    "slideshow": {
     "slide_type": "-"
    }
   },
   "outputs": [],
   "source": [
    "from sklearn.model_selection import cross_val_score\n",
    "from sklearn.metrics import f1_score\n",
    "\n",
    "def my_scorer(estimator, x, y):\n",
    "    prediction = estimator.predict(x)\n",
    "    macro_score = f1_score(y, prediction, average='macro')\n",
    "    weighted_score = f1_score(y, prediction, average='weighted')\n",
    "    prec_score = presicion_score(y, prediction)\n",
    "    rec_score = recall_score(y, prediction)\n",
    "    return macro_score + weighted_score + prec_score + rec_score\n",
    "    \n",
    "k = 10\n",
    "scoring_policy = ['f1_macro', 'f1_weighted']\n"
   ]
  },
  {
   "cell_type": "markdown",
   "metadata": {
    "ein.tags": "worksheet-0",
    "slideshow": {
     "slide_type": "-"
    }
   },
   "source": [
    "### Parameter estimation\n",
    "Now it's time to estimate MLP Classifier parameters, using cross validation.\n",
    "First we have to find the best solve.\n",
    "We search for all the available options.\n",
    "Because it takes too much time we put the excecuted code in comments and we\n",
    "take for granted the optimal values."
   ]
  },
  {
   "cell_type": "code",
   "execution_count": 101,
   "metadata": {
    "autoscroll": false,
    "ein.tags": "worksheet-0",
    "slideshow": {
     "slide_type": "slide"
    }
   },
   "outputs": [],
   "source": [
    "hidden_layer_opts = range(120,170,20)\n",
    "act_opts = ['identity', 'logistic', 'tanh', 'relu']\n",
    "solver_opts = ['lbfgs', 'sgd', 'adam']\n",
    "learn_opts = ['constant', 'invscaling', 'adaptive']\n",
    "alpha_opt =  np.logspace(-5, 3, 5)\n",
    "\n",
    "# best_score = 0\n",
    "# best_params = []\n",
    "# for tmp_hid_layer in hidden_layer_opts:\n",
    "#     print tmp_hid_layer\n",
    "#     for tmp_activation in act_opts:\n",
    "#         for tmp_solver in solver_opts:\n",
    "#             for tmp_learn in learn_opts:\n",
    "#                 for tmp_alpha in alpha_opt:\n",
    "#                     clf = MLPClassifier(warm_start=True,hidden_layer_sizes=tmp_hid_layer,activation=tmp_activation, \n",
    "#                     solver=tmp_solver, learning_rate=tmp_learn, alpha=tmp_alpha)\n",
    "#                     # clf.fit(scaled_train_data,y_train)\n",
    "#                     f_score= np.mean(cross_val_score(clf,scaled_train_data,y_train,cv=k,scoring= 'f1_weighted', n_jobs=-1))\n",
    "#                     if (f_score > best_score):\n",
    "#                         best_score = f_score\n",
    "#                         best_params = [tmp_hid_layer,tmp_activation,tmp_solver,tmp_learn,tmp_alpha]\n",
    "#                         print best_score\n",
    "#                         print \"best params:\", best_params\n",
    "\n",
    "# print best_score\n",
    "# print \"final best params:\", best_params\n",
    "    "
   ]
  },
  {
   "cell_type": "markdown",
   "metadata": {
    "ein.tags": "worksheet-0",
    "slideshow": {
     "slide_type": "-"
    }
   },
   "source": [
    "We didn't take account the max_iter paramater, so for the optimal parameters we\n",
    "want to find the optimal max number of iterations."
   ]
  },
  {
   "cell_type": "code",
   "execution_count": 103,
   "metadata": {
    "autoscroll": false,
    "ein.tags": "worksheet-0",
    "slideshow": {
     "slide_type": "-"
    }
   },
   "outputs": [],
   "source": [
    "best_params= [140, 'relu', 'lbfgs', 'constant', 0.10000000000000001]\n",
    "\n",
    "# best_score = 0\n",
    "# best_iter = -1\n",
    "# max_iter_opts = range(50, 460, 50)\n",
    "# print max_iter_opts\n",
    "# for i in max_iter_opts:\n",
    "#     print i\n",
    "#     clf = MLPClassifier(warm_start=True,hidden_layer_sizes=best_params[0],activation=best_params[1],\n",
    "#                         solver=best_params[2],learning_rate=best_params[3],alpha=best_params[4],max_iter=i)\n",
    "#     f_score= np.mean(cross_val_score(clf,scaled_train_data,y_train,cv=k,scoring= 'f1_weighted', n_jobs=-1))\n",
    "#     if (f_score > best_score):\n",
    "#         best_score = f_score\n",
    "#         best_iter = i\n",
    "#         print \"max_iter:\", best_iter, \"score:\", best_score\n",
    "\n",
    "# print \"final max_iter:\", best_iter, \"score:\", best_score\n",
    "                \n",
    "\n"
   ]
  },
  {
   "cell_type": "markdown",
   "metadata": {
    "ein.tags": "worksheet-0",
    "slideshow": {
     "slide_type": "-"
    }
   },
   "source": [
    "After we've found the best hyperparameters, it's time to examine them using the previous metrics"
   ]
  },
  {
   "cell_type": "code",
   "execution_count": 104,
   "metadata": {
    "autoscroll": false,
    "ein.tags": "worksheet-0",
    "slideshow": {
     "slide_type": "skip"
    }
   },
   "outputs": [
    {
     "name": "stdout",
     "output_type": "stream",
     "text": [
      "stratified : 0.547619047619\n",
      "most_frequent : 0.5\n",
      "prior : 0.5\n",
      "uniform : 0.571428571429\n",
      "constant : 0.5\n",
      "MLP : 0.904761904762\n",
      "[0.0006089210510253906, 0.00020194053649902344, 0.00017905235290527344, 0.0001838207244873047, 0.0006260871887207031, 0.1649770736694336]\n"
     ]
    }
   ],
   "source": [
    "best_params= [140, 'relu', 'lbfgs', 'constant', 0.10000000000000001, 250]\n",
    "\n",
    "\n",
    "state = 1\n",
    "dummy_strategies = [ 'stratified', 'most_frequent', 'prior', 'uniform', 'constant']\n",
    "opt_conf = []\n",
    "opt_macro = []\n",
    "opt_weighted = []\n",
    "opt_precision = []\n",
    "opt_recall = []\n",
    "opt_time_array = []\n",
    "# dummy_classifiers= {}\n",
    "for i in dummy_strategies:\n",
    "    if (i == 'constant'):\n",
    "        dummy_classifiers=DummyClassifier(strategy=i, constant=state)\n",
    "    else:\n",
    "        dummy_classifiers=DummyClassifier(strategy=i)\n",
    "\n",
    "\n",
    "    start_time = time.time()\n",
    "    dummy_classifiers.fit(scaled_train_data,y_train)\n",
    "    opt_time_array += [time.time() - start_time]\n",
    "\n",
    "    results = dummy_classifiers.predict(scaled_test_data)\n",
    "    opt_conf.append( confusion_matrix(y_test, results))\n",
    "    opt_macro += [f1_score(y_test, results, average='macro')]\n",
    "    opt_weighted.append(  f1_score(y_test, results, average='weighted'))\n",
    "    opt_precision.append( precision_score(y_test, results))\n",
    "    opt_recall.append(  recall_score(y_test, results))\n",
    "    print dummy_classifiers.strategy, \":\", accuracy_score(results,y_test)\n",
    "\n",
    "\n",
    "clf = MLPClassifier(warm_start=True,hidden_layer_sizes=best_params[0],activation=best_params[1],\n",
    "                    solver=best_params[2],learning_rate=best_params[3],alpha=best_params[4],max_iter=best_params[5])\n",
    "\n",
    "start_time = time.time()    \n",
    "clf.fit(scaled_train_data,y_train)\n",
    "opt_time_array += [time.time() - start_time]\n",
    "results = clf.predict(scaled_test_data)\n",
    "opt_conf.append( confusion_matrix(y_test, results))\n",
    "opt_macro.append( f1_score(y_test, results, average='macro'))\n",
    "opt_weighted.append(f1_score(y_test, results, average='weighted'))\n",
    "opt_precision.append(  precision_score(y_test, results))\n",
    "opt_recall.append(recall_score(y_test, results))\n",
    "print \"MLP :\",accuracy_score(results,y_test)\n",
    "print opt_time_array"
   ]
  },
  {
   "cell_type": "markdown",
   "metadata": {
    "ein.tags": "worksheet-0",
    "slideshow": {
     "slide_type": "-"
    }
   },
   "source": [
    "Time to plot our metrics"
   ]
  },
  {
   "cell_type": "code",
   "execution_count": 105,
   "metadata": {
    "autoscroll": false,
    "ein.tags": "worksheet-0",
    "slideshow": {
     "slide_type": "-"
    }
   },
   "outputs": [
    {
     "name": "stdout",
     "output_type": "stream",
     "text": [
      "['stratified', 'most_frequent', 'prior', 'uniform', 'constant', 'MLP']\n"
     ]
    },
    {
     "data": {
      "text/plain": [
       "<Container object of 6 artists>"
      ]
     },
     "execution_count": 105,
     "metadata": {},
     "output_type": "execute_result"
    },
    {
     "data": {
      "image/png": "[encoded data removed]",
      "text/plain": [
       "<matplotlib.figure.Figure at 0x7fca3bf25f10>"
      ]
     },
     "metadata": {},
     "output_type": "display_data"
    },
    {
     "data": {
      "image/png": "[encoded data removed]",
      "text/plain": [
       "<matplotlib.figure.Figure at 0x7fca3bc2ae90>"
      ]
     },
     "metadata": {},
     "output_type": "display_data"
    },
    {
     "data": {
      "image/png": "[encoded data removed]",
      "text/plain": [
       "<matplotlib.figure.Figure at 0x7fca3c21ecd0>"
      ]
     },
     "metadata": {},
     "output_type": "display_data"
    },
    {
     "data": {
      "image/png": "[encoded data removed]",
      "text/plain": [
       "<matplotlib.figure.Figure at 0x7fca74f5e390>"
      ]
     },
     "metadata": {},
     "output_type": "display_data"
    }
   ],
   "source": [
    "clf_names = dummy_strategies + ['MLP']\n",
    "print clf_names\n",
    "fig = 1\n",
    "plt.figure(fig)\n",
    "plt.suptitle('f1_macro')\n",
    "plt.bar(range(len(opt_macro)),opt_macro,tick_label=clf_names)\n",
    "\n",
    "fig +=1\n",
    "plt.figure(fig)\n",
    "plt.suptitle('f1_weighted')\n",
    "plt.bar(range(len(opt_weighted)),opt_weighted,tick_label=clf_names)\n",
    "\n",
    "fig +=1\n",
    "plt.figure(fig)\n",
    "plt.suptitle('precision')\n",
    "plt.bar(range(len(opt_precision)),opt_precision,tick_label=clf_names)\n",
    "\n",
    "fig +=1\n",
    "plt.figure(fig)\n",
    "plt.suptitle('recall')\n",
    "plt.bar(range(len(opt_recall)),opt_recall,tick_label=clf_names)"
   ]
  },
  {
   "cell_type": "markdown",
   "metadata": {
    "ein.tags": "worksheet-0",
    "slideshow": {
     "slide_type": "-"
    }
   },
   "source": [
    "Time to compare our metrics"
   ]
  },
  {
   "cell_type": "code",
   "execution_count": 108,
   "metadata": {
    "autoscroll": false,
    "ein.tags": "worksheet-0",
    "slideshow": {
     "slide_type": "slide"
    }
   },
   "outputs": [
    {
     "name": "stdout",
     "output_type": "stream",
     "text": [
      "stratified\n",
      "\n",
      "unprocessed data:\n",
      "f1_macro\t ==>\t0.475\n",
      "f1_weighted\t ==>\t0.475\n",
      "precision\t ==> \t0.478260869565\n",
      "recall score\t ==> \t0.52380952381\n",
      "time spent\t ==> \t0.000416040420532\n",
      "\n",
      "processed data:\n",
      "f1_macro\t ==>\t0.541115583669\n",
      "f1_weighted\t ==>\t0.541115583669\n",
      "precision\t ==> \t0.538461538462\n",
      "recall score\t ==> \t0.666666666667\n",
      "time spent\t ==> \t0.000608921051025\n",
      "\n",
      "change rate (%):\n",
      "f1_macro\t ==>\t13.9190702461\n",
      "f1_weighted\t ==>\t0.139190702461\n",
      "precision\t ==> \t0.125874125874\n",
      "recall score\t ==> \t0.272727272727\n",
      "time spent\t ==> \t-0.463610315186\n",
      "\n",
      "most_frequent\n",
      "\n",
      "unprocessed data:\n",
      "f1_macro\t ==>\t0.333333333333\n",
      "f1_weighted\t ==>\t0.333333333333\n",
      "precision\t ==> \t0.5\n",
      "recall score\t ==> \t1.0\n",
      "time spent\t ==> \t0.000196933746338\n",
      "\n",
      "processed data:\n",
      "f1_macro\t ==>\t0.333333333333\n",
      "f1_weighted\t ==>\t0.333333333333\n",
      "precision\t ==> \t0.5\n",
      "recall score\t ==> \t1.0\n",
      "time spent\t ==> \t0.000201940536499\n",
      "\n",
      "change rate (%):\n",
      "f1_macro\t ==>\t-0.0\n",
      "f1_weighted\t ==>\t-0.0\n",
      "precision\t ==> \t-0.0\n",
      "recall score\t ==> \t-0.0\n",
      "time spent\t ==> \t-0.0254237288136\n",
      "\n",
      "prior\n",
      "\n",
      "unprocessed data:\n",
      "f1_macro\t ==>\t0.333333333333\n",
      "f1_weighted\t ==>\t0.333333333333\n",
      "precision\t ==> \t0.5\n",
      "recall score\t ==> \t1.0\n",
      "time spent\t ==> \t0.000224828720093\n",
      "\n",
      "processed data:\n",
      "f1_macro\t ==>\t0.333333333333\n",
      "f1_weighted\t ==>\t0.333333333333\n",
      "precision\t ==> \t0.5\n",
      "recall score\t ==> \t1.0\n",
      "time spent\t ==> \t0.000179052352905\n",
      "\n",
      "change rate (%):\n",
      "f1_macro\t ==>\t-0.0\n",
      "f1_weighted\t ==>\t-0.0\n",
      "precision\t ==> \t-0.0\n",
      "recall score\t ==> \t-0.0\n",
      "time spent\t ==> \t0.203605514316\n",
      "\n",
      "uniform\n",
      "\n",
      "unprocessed data:\n",
      "f1_macro\t ==>\t0.547362450369\n",
      "f1_weighted\t ==>\t0.547362450369\n",
      "precision\t ==> \t0.545454545455\n",
      "recall score\t ==> \t0.571428571429\n",
      "time spent\t ==> \t0.000241041183472\n",
      "\n",
      "processed data:\n",
      "f1_macro\t ==>\t0.571428571429\n",
      "f1_weighted\t ==>\t0.571428571429\n",
      "precision\t ==> \t0.571428571429\n",
      "recall score\t ==> \t0.571428571429\n",
      "time spent\t ==> \t0.000183820724487\n",
      "\n",
      "change rate (%):\n",
      "f1_macro\t ==>\t4.39674315322\n",
      "f1_weighted\t ==>\t0.0439674315322\n",
      "precision\t ==> \t0.047619047619\n",
      "recall score\t ==> \t-0.0\n",
      "time spent\t ==> \t0.237388724036\n",
      "\n",
      "constant\n",
      "\n",
      "unprocessed data:\n",
      "f1_macro\t ==>\t0.333333333333\n",
      "f1_weighted\t ==>\t0.333333333333\n",
      "precision\t ==> \t0.5\n",
      "recall score\t ==> \t1.0\n",
      "time spent\t ==> \t0.000296831130981\n",
      "\n",
      "processed data:\n",
      "f1_macro\t ==>\t0.333333333333\n",
      "f1_weighted\t ==>\t0.333333333333\n",
      "precision\t ==> \t0.5\n",
      "recall score\t ==> \t1.0\n",
      "time spent\t ==> \t0.000626087188721\n",
      "\n",
      "change rate (%):\n",
      "f1_macro\t ==>\t-0.0\n",
      "f1_weighted\t ==>\t-0.0\n",
      "precision\t ==> \t-0.0\n",
      "recall score\t ==> \t-0.0\n",
      "time spent\t ==> \t-1.10923694779\n",
      "\n",
      "MLP\n",
      "\n",
      "unprocessed data:\n",
      "f1_macro\t ==>\t0.879240943071\n",
      "f1_weighted\t ==>\t0.879240943071\n",
      "precision\t ==> \t0.807692307692\n",
      "recall score\t ==> \t1.0\n",
      "time spent\t ==> \t0.353772163391\n",
      "\n",
      "processed data:\n",
      "f1_macro\t ==>\t0.903890160183\n",
      "f1_weighted\t ==>\t0.903890160183\n",
      "precision\t ==> \t0.84\n",
      "recall score\t ==> \t1.0\n",
      "time spent\t ==> \t0.164977073669\n",
      "\n",
      "change rate (%):\n",
      "f1_macro\t ==>\t2.80346556955\n",
      "f1_weighted\t ==>\t0.0280346556955\n",
      "precision\t ==> \t0.04\n",
      "recall score\t ==> \t-0.0\n",
      "time spent\t ==> \t0.533662931283\n",
      "\n"
     ]
    }
   ],
   "source": [
    "for i in range(0,len(clf_names)):\n",
    "    print clf_names[i]\n",
    "    print \n",
    "    print \"unprocessed data:\"\n",
    "    print \"f1_macro\\t ==>\\t\",macro[i]\n",
    "    print \"f1_weighted\\t ==>\\t\", weighted[i]\n",
    "    print \"precision\\t ==> \\t\", precision[i]\n",
    "    print \"recall score\\t ==> \\t\", recall[i]\n",
    "    print \"time spent\\t ==> \\t\", time_array[i]\n",
    "    print\n",
    "    print \"processed data:\"\n",
    "    print \"f1_macro\\t ==>\\t\",opt_macro[i]\n",
    "    print \"f1_weighted\\t ==>\\t\", opt_weighted[i]\n",
    "    print \"precision\\t ==> \\t\", opt_precision[i]\n",
    "    print \"recall score\\t ==> \\t\", opt_recall[i]\n",
    "    print \"time spent\\t ==> \\t\", opt_time_array[i]\n",
    "    print\n",
    "    print \"change rate (%):\"\n",
    "    print \"f1_macro\\t ==>\\t\",-(macro[i]-opt_macro[i])/macro[i]*100\n",
    "    print \"f1_weighted\\t ==>\\t\", -(weighted[i]- opt_weighted[i])/weighted[i]\n",
    "    print \"precision\\t ==> \\t\", -(precision[i]-opt_precision[i])/precision[i]\n",
    "    print \"recall score\\t ==> \\t\", -(recall[i]-opt_recall[i])/recall[i]\n",
    "    print \"time spent\\t ==> \\t\", (time_array[i]-opt_time_array[i])/time_array[i]\n",
    "    print"
   ]
  }
 ],
 "metadata": {
  "kernelspec": {
   "display_name": "Python 2",
   "language": "python",
   "name": "python2"
  },
  "language_info": {
   "codemirror_mode": {
    "name": "ipython",
    "version": 2
   },
   "file_extension": ".py",
   "mimetype": "text/x-python",
   "name": "python",
   "nbconvert_exporter": "python",
   "pygments_lexer": "ipython2",
   "version": "2.7.13"
  },
  "name": "Meros Prwto.ipynb"
 },
 "nbformat": 4,
 "nbformat_minor": 2
}
